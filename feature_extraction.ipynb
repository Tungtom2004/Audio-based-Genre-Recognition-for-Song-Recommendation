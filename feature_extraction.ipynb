{
 "cells": [
  {
   "cell_type": "code",
   "execution_count": 1,
   "metadata": {
    "_cell_guid": "b1076dfc-b9ad-4769-8c92-a6c4dae69d19",
    "_uuid": "8f2839f25d086af736a60e9eeb907d3b93b6e0e5",
    "trusted": true
   },
   "outputs": [],
   "source": [
    "import os\n",
    "import numpy as np\n",
    "import pandas as pd\n",
    "import librosa\n",
    "from tqdm import tqdm"
   ]
  },
  {
   "cell_type": "code",
   "execution_count": 2,
   "metadata": {
    "trusted": true
   },
   "outputs": [],
   "source": [
    "AUDIO_DIR = \"GTZAN\"  # root folder containing genre subfolders\n",
    "OUTPUT_CSV = \"features_for_ml.csv\"\n",
    "OUTPUT_CNN_DIR = \"features_for_cnn\"\n",
    "os.makedirs(OUTPUT_CNN_DIR, exist_ok=True)"
   ]
  },
  {
   "cell_type": "code",
   "execution_count": 3,
   "metadata": {
    "trusted": true
   },
   "outputs": [
    {
     "name": "stdout",
     "output_type": "stream",
     "text": [
      "Genres found: ['reggae', 'rock', 'hiphop', 'disco', 'classical', 'pop', 'blues', 'metal', 'jazz', 'country']\n"
     ]
    }
   ],
   "source": [
    "genres = [g for g in os.listdir(AUDIO_DIR) if os.path.isdir(os.path.join(AUDIO_DIR, g))]\n",
    "print(\"Genres found:\", genres)"
   ]
  },
  {
   "cell_type": "code",
   "execution_count": 4,
   "metadata": {
    "trusted": true
   },
   "outputs": [],
   "source": [
    "def extract_features_for_ml(y, sr):\n",
    "    # Pre-emphasis filter\n",
    "    y_pre = np.append(y[0], y[1:] - 0.97 * y[:-1])\n",
    "    \n",
    "    # Zero-Crossing Rate\n",
    "    zcr = np.mean(librosa.feature.zero_crossing_rate(y_pre))\n",
    "    \n",
    "    #Root Mean Square Energy (RMS)\n",
    "    rmse = np.mean(librosa.feature.rms(y=y_pre))\n",
    "    \n",
    "    # Tempo (BPM)\n",
    "    tempo, _ = librosa.beat.beat_track(y=y_pre, sr=sr)\n",
    "    \n",
    "    # MFCCs (Mel-Frequency Cepstral Coefficients)\n",
    "    mfccs = librosa.feature.mfcc(y=y_pre, sr=sr, n_mfcc=20)\n",
    "    mfccs_mean = np.mean(mfccs, axis=1)\n",
    "\n",
    "    # Chroma features\n",
    "    chroma = librosa.feature.chroma_stft(y=y_pre, sr=sr)\n",
    "    chroma_mean = np.mean(chroma, axis=1)\n",
    "    \n",
    "    # Spectral centroid\n",
    "    spec_centroid = np.mean(librosa.feature.spectral_centroid(y=y_pre, sr=sr))\n",
    "\n",
    "    # Spectral bandwidth\n",
    "    spec_bandwidth = np.mean(librosa.feature.spectral_bandwidth(y=y_pre, sr=sr))\n",
    "    \n",
    "    # Combine features\n",
    "    features = np.hstack([\n",
    "        mfccs_mean,\n",
    "        chroma_mean,\n",
    "        zcr,\n",
    "        rmse,\n",
    "        tempo,\n",
    "        spec_centroid,\n",
    "        spec_bandwidth\n",
    "    ])\n",
    "    return features"
   ]
  },
  {
   "cell_type": "code",
   "execution_count": 5,
   "metadata": {
    "trusted": true
   },
   "outputs": [],
   "source": [
    "def extract_features_for_cnn(y, sr=22050, n_mels=128, fmax=8000):\n",
    "    # Apply pre-emphasis to boost high frequencies\n",
    "    y_pre = np.append(y[0], y[1:] - 0.97 * y[:-1])\n",
    "    \n",
    "    # Compute Mel-spectrogram\n",
    "    S = librosa.feature.melspectrogram(y=y_pre, sr=sr, n_mels=n_mels, fmax=fmax)\n",
    "    \n",
    "    # Convert power to log scale (dB)\n",
    "    S_db = librosa.power_to_db(S, ref=np.max)\n",
    "    \n",
    "    # Add channel dimension for CNN (grayscale image)\n",
    "    cnn_image = S_db[..., np.newaxis]\n",
    "    \n",
    "    return cnn_image\n",
    "\n"
   ]
  },
  {
   "cell_type": "code",
   "execution_count": 6,
   "metadata": {
    "trusted": true
   },
   "outputs": [],
   "source": [
    "all_files = []\n",
    "for genre in genres:\n",
    "    genre_dir = os.path.join(AUDIO_DIR, genre)\n",
    "    for fname in os.listdir(genre_dir):\n",
    "        if fname.endswith('.wav'):\n",
    "            file_path = os.path.join(genre_dir, fname)\n",
    "            all_files.append((file_path, genre))"
   ]
  },
  {
   "cell_type": "code",
   "execution_count": 7,
   "metadata": {
    "trusted": true
   },
   "outputs": [
    {
     "name": "stderr",
     "output_type": "stream",
     "text": [
      "Processing all GTZAN files:  83%|████████▎ | 834/1000 [04:56<00:55,  3.02it/s]/tmp/ipykernel_450101/2404782352.py:8: UserWarning: PySoundFile failed. Trying audioread instead.\n",
      "  y, sr = librosa.load(file_path, sr=22050, mono=True)\n",
      "/home/nhaatj/myenv/lib/python3.12/site-packages/librosa/core/audio.py:184: FutureWarning: librosa.core.audio.__audioread_load\n",
      "\tDeprecated as of librosa version 0.10.0.\n",
      "\tIt will be removed in librosa version 1.0.\n",
      "  y, sr_native = __audioread_load(path, offset, duration, dtype)\n",
      "Processing all GTZAN files:  84%|████████▎ | 835/1000 [04:56<00:44,  3.69it/s]"
     ]
    },
    {
     "name": "stdout",
     "output_type": "stream",
     "text": [
      "Error processing GTZAN/jazz/jazz.00054.wav: \n"
     ]
    },
    {
     "name": "stderr",
     "output_type": "stream",
     "text": [
      "Processing all GTZAN files: 100%|██████████| 1000/1000 [05:51<00:00,  2.84it/s]\n"
     ]
    }
   ],
   "source": [
    "feature_list = []\n",
    "label_list = []\n",
    "file_list = []\n",
    "\n",
    "# Single tqdm progress bar\n",
    "for file_path, genre in tqdm(all_files, desc=\"Processing all GTZAN files\"):\n",
    "    try:\n",
    "        y, sr = librosa.load(file_path, sr=22050, mono=True)\n",
    "        \n",
    "        # Segment into 3-second clips\n",
    "        clip_length = 3 * sr\n",
    "        num_clips = len(y) // clip_length\n",
    "        for i in range(num_clips):\n",
    "            clip = y[i*clip_length : (i+1)*clip_length]\n",
    "            features = extract_features_for_ml(clip, sr)\n",
    "            feature_list.append(features)\n",
    "            label_list.append(genre)\n",
    "            file_list.append(os.path.basename(file_path))\n",
    "            \n",
    "    except Exception as e:\n",
    "        print(f\"Error processing {file_path}: {e}\")\n"
   ]
  },
  {
   "cell_type": "code",
   "execution_count": 8,
   "metadata": {
    "trusted": true
   },
   "outputs": [
    {
     "name": "stdout",
     "output_type": "stream",
     "text": [
      "Feature extraction done. Saved to features_for_ml.csv\n"
     ]
    }
   ],
   "source": [
    "feature_names = [f\"mfcc_{i+1}\" for i in range(20)] + \\\n",
    "                [f\"chroma_{i+1}\" for i in range(12)] + \\\n",
    "                ['zcr','rmse','tempo','spec_centroid','spec_bandwidth']\n",
    "\n",
    "df_features = pd.DataFrame(feature_list, columns=feature_names)\n",
    "df_features['genre'] = label_list\n",
    "df_features['filename'] = file_list\n",
    "\n",
    "df_features.to_csv(OUTPUT_CSV, index=False)\n",
    "print(f\"Feature extraction done. Saved to {OUTPUT_CSV}\")"
   ]
  },
  {
   "cell_type": "code",
   "execution_count": 10,
   "metadata": {
    "trusted": true
   },
   "outputs": [
    {
     "name": "stderr",
     "output_type": "stream",
     "text": [
      "Converting audio to CNN images:  83%|████████▎ | 832/1000 [00:34<00:06, 24.92it/s]/tmp/ipykernel_450101/450346525.py:3: UserWarning: PySoundFile failed. Trying audioread instead.\n",
      "  y, sr = librosa.load(file_path, sr=22050, mono=True)\n",
      "/home/nhaatj/myenv/lib/python3.12/site-packages/librosa/core/audio.py:184: FutureWarning: librosa.core.audio.__audioread_load\n",
      "\tDeprecated as of librosa version 0.10.0.\n",
      "\tIt will be removed in librosa version 1.0.\n",
      "  y, sr_native = __audioread_load(path, offset, duration, dtype)\n",
      "Converting audio to CNN images:  84%|████████▍ | 839/1000 [00:34<00:07, 22.33it/s]"
     ]
    },
    {
     "name": "stdout",
     "output_type": "stream",
     "text": [
      "Error processing GTZAN/jazz/jazz.00054.wav: \n"
     ]
    },
    {
     "name": "stderr",
     "output_type": "stream",
     "text": [
      "Converting audio to CNN images: 100%|██████████| 1000/1000 [00:40<00:00, 24.50it/s]"
     ]
    },
    {
     "name": "stdout",
     "output_type": "stream",
     "text": [
      "All CNN images saved individually in 'features_for_cnn', organized by genre.\n"
     ]
    },
    {
     "name": "stderr",
     "output_type": "stream",
     "text": [
      "\n"
     ]
    }
   ],
   "source": [
    "for file_path, genre in tqdm(all_files, desc=\"Converting audio to CNN images\"):\n",
    "    try:\n",
    "        y, sr = librosa.load(file_path, sr=22050, mono=True)\n",
    "        cnn_img = extract_features_for_cnn(y, sr)\n",
    "        \n",
    "        # Create genre folder if it doesn't exist\n",
    "        genre_folder = os.path.join(OUTPUT_CNN_DIR, genre)\n",
    "        os.makedirs(genre_folder, exist_ok=True)\n",
    "        \n",
    "        # Save CNN image in its genre folder\n",
    "        filename = os.path.splitext(os.path.basename(file_path))[0]\n",
    "        npy_path = os.path.join(genre_folder, f\"{filename}.npy\")\n",
    "        np.save(npy_path, cnn_img)\n",
    "        \n",
    "    except Exception as e:\n",
    "        print(f\"Error processing {file_path}: {e}\")\n",
    "\n",
    "print(f\"All CNN images saved individually in '{OUTPUT_CNN_DIR}', organized by genre.\")"
   ]
  }
 ],
 "metadata": {
  "kaggle": {
   "accelerator": "none",
   "dataSources": [
    {
     "datasetId": 568973,
     "sourceId": 1032238,
     "sourceType": "datasetVersion"
    }
   ],
   "dockerImageVersionId": 31153,
   "isGpuEnabled": false,
   "isInternetEnabled": true,
   "language": "python",
   "sourceType": "notebook"
  },
  "kernelspec": {
   "display_name": "myenv",
   "language": "python",
   "name": "python3"
  },
  "language_info": {
   "codemirror_mode": {
    "name": "ipython",
    "version": 3
   },
   "file_extension": ".py",
   "mimetype": "text/x-python",
   "name": "python",
   "nbconvert_exporter": "python",
   "pygments_lexer": "ipython3",
   "version": "3.12.3"
  }
 },
 "nbformat": 4,
 "nbformat_minor": 4
}
